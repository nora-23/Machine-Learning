{
 "cells": [
  {
   "cell_type": "code",
   "execution_count": 14,
   "metadata": {},
   "outputs": [],
   "source": [
    "import numpy as np\n",
    "import pandas as pd\n",
    "import matplotlib.pyplot as plt\n",
    "import seaborn as sns \n",
    "from scipy import stats\n",
    "from sklearn.preprocessing import StandardScaler\n",
    "from sklearn.utils import resample\n",
    "from sklearn.model_selection import train_test_split\n",
    "\n",
    "from sklearn.linear_model import LogisticRegression\n",
    "from sklearn.svm import SVC\n",
    "from sklearn.neighbors import KNeighborsClassifier\n",
    "from sklearn.tree import DecisionTreeClassifier\n",
    "from sklearn.ensemble import RandomForestClassifier\n",
    "import collections\n",
    "\n",
    "from sklearn.metrics import accuracy_score,recall_score,f1_score,precision_score\n"
   ]
  },
  {
   "cell_type": "markdown",
   "metadata": {},
   "source": [
    "### Data Description "
   ]
  },
  {
   "cell_type": "code",
   "execution_count": 3,
   "metadata": {},
   "outputs": [
    {
     "data": {
      "text/html": [
       "<div>\n",
       "<style scoped>\n",
       "    .dataframe tbody tr th:only-of-type {\n",
       "        vertical-align: middle;\n",
       "    }\n",
       "\n",
       "    .dataframe tbody tr th {\n",
       "        vertical-align: top;\n",
       "    }\n",
       "\n",
       "    .dataframe thead th {\n",
       "        text-align: right;\n",
       "    }\n",
       "</style>\n",
       "<table border=\"1\" class=\"dataframe\">\n",
       "  <thead>\n",
       "    <tr style=\"text-align: right;\">\n",
       "      <th></th>\n",
       "      <th>Unnamed: 0</th>\n",
       "      <th>n_visits</th>\n",
       "      <th>n_actions</th>\n",
       "      <th>unique_actions</th>\n",
       "      <th>products_tried</th>\n",
       "      <th>products_added</th>\n",
       "      <th>unique_products_category_tried</th>\n",
       "      <th>unique_products_category_added</th>\n",
       "      <th>saved_to_cart</th>\n",
       "      <th>comments_writen</th>\n",
       "      <th>counts_of_buys</th>\n",
       "      <th>came_back</th>\n",
       "    </tr>\n",
       "  </thead>\n",
       "  <tbody>\n",
       "    <tr>\n",
       "      <th>0</th>\n",
       "      <td>255863</td>\n",
       "      <td>1</td>\n",
       "      <td>63</td>\n",
       "      <td>45</td>\n",
       "      <td>0</td>\n",
       "      <td>0</td>\n",
       "      <td>0</td>\n",
       "      <td>2</td>\n",
       "      <td>1</td>\n",
       "      <td>1</td>\n",
       "      <td>2</td>\n",
       "      <td>0</td>\n",
       "    </tr>\n",
       "    <tr>\n",
       "      <th>1</th>\n",
       "      <td>583906</td>\n",
       "      <td>4</td>\n",
       "      <td>350</td>\n",
       "      <td>72</td>\n",
       "      <td>0</td>\n",
       "      <td>0</td>\n",
       "      <td>0</td>\n",
       "      <td>2</td>\n",
       "      <td>1</td>\n",
       "      <td>4</td>\n",
       "      <td>6</td>\n",
       "      <td>0</td>\n",
       "    </tr>\n",
       "    <tr>\n",
       "      <th>2</th>\n",
       "      <td>280626</td>\n",
       "      <td>12</td>\n",
       "      <td>1019</td>\n",
       "      <td>123</td>\n",
       "      <td>5</td>\n",
       "      <td>2</td>\n",
       "      <td>6</td>\n",
       "      <td>6</td>\n",
       "      <td>1</td>\n",
       "      <td>9</td>\n",
       "      <td>14</td>\n",
       "      <td>0</td>\n",
       "    </tr>\n",
       "    <tr>\n",
       "      <th>3</th>\n",
       "      <td>357109</td>\n",
       "      <td>1</td>\n",
       "      <td>503</td>\n",
       "      <td>124</td>\n",
       "      <td>0</td>\n",
       "      <td>0</td>\n",
       "      <td>30</td>\n",
       "      <td>16</td>\n",
       "      <td>0</td>\n",
       "      <td>0</td>\n",
       "      <td>0</td>\n",
       "      <td>0</td>\n",
       "    </tr>\n",
       "    <tr>\n",
       "      <th>4</th>\n",
       "      <td>264311</td>\n",
       "      <td>15</td>\n",
       "      <td>1869</td>\n",
       "      <td>139</td>\n",
       "      <td>0</td>\n",
       "      <td>0</td>\n",
       "      <td>34</td>\n",
       "      <td>13</td>\n",
       "      <td>1</td>\n",
       "      <td>12</td>\n",
       "      <td>25</td>\n",
       "      <td>1</td>\n",
       "    </tr>\n",
       "  </tbody>\n",
       "</table>\n",
       "</div>"
      ],
      "text/plain": [
       "   Unnamed: 0  n_visits  n_actions  unique_actions  products_tried  \\\n",
       "0      255863         1         63              45               0   \n",
       "1      583906         4        350              72               0   \n",
       "2      280626        12       1019             123               5   \n",
       "3      357109         1        503             124               0   \n",
       "4      264311        15       1869             139               0   \n",
       "\n",
       "   products_added  unique_products_category_tried  \\\n",
       "0               0                               0   \n",
       "1               0                               0   \n",
       "2               2                               6   \n",
       "3               0                              30   \n",
       "4               0                              34   \n",
       "\n",
       "   unique_products_category_added  saved_to_cart  comments_writen  \\\n",
       "0                               2              1                1   \n",
       "1                               2              1                4   \n",
       "2                               6              1                9   \n",
       "3                              16              0                0   \n",
       "4                              13              1               12   \n",
       "\n",
       "   counts_of_buys  came_back  \n",
       "0               2          0  \n",
       "1               6          0  \n",
       "2              14          0  \n",
       "3               0          0  \n",
       "4              25          1  "
      ]
     },
     "execution_count": 3,
     "metadata": {},
     "output_type": "execute_result"
    }
   ],
   "source": [
    "data = pd.read_csv('train.csv')\n",
    "data.head()"
   ]
  },
  {
   "cell_type": "code",
   "execution_count": 4,
   "metadata": {},
   "outputs": [
    {
     "name": "stdout",
     "output_type": "stream",
     "text": [
      "<class 'pandas.core.frame.DataFrame'>\n",
      "RangeIndex: 658052 entries, 0 to 658051\n",
      "Data columns (total 12 columns):\n",
      " #   Column                          Non-Null Count   Dtype\n",
      "---  ------                          --------------   -----\n",
      " 0   Unnamed: 0                      658052 non-null  int64\n",
      " 1   n_visits                        658052 non-null  int64\n",
      " 2   n_actions                       658052 non-null  int64\n",
      " 3   unique_actions                  658052 non-null  int64\n",
      " 4   products_tried                  658052 non-null  int64\n",
      " 5   products_added                  658052 non-null  int64\n",
      " 6   unique_products_category_tried  658052 non-null  int64\n",
      " 7   unique_products_category_added  658052 non-null  int64\n",
      " 8   saved_to_cart                   658052 non-null  int64\n",
      " 9   comments_writen                 658052 non-null  int64\n",
      " 10  counts_of_buys                  658052 non-null  int64\n",
      " 11  came_back                       658052 non-null  int64\n",
      "dtypes: int64(12)\n",
      "memory usage: 60.2 MB\n"
     ]
    }
   ],
   "source": [
    "data.info()"
   ]
  },
  {
   "cell_type": "code",
   "execution_count": 5,
   "metadata": {},
   "outputs": [
    {
     "data": {
      "text/html": [
       "<div>\n",
       "<style scoped>\n",
       "    .dataframe tbody tr th:only-of-type {\n",
       "        vertical-align: middle;\n",
       "    }\n",
       "\n",
       "    .dataframe tbody tr th {\n",
       "        vertical-align: top;\n",
       "    }\n",
       "\n",
       "    .dataframe thead th {\n",
       "        text-align: right;\n",
       "    }\n",
       "</style>\n",
       "<table border=\"1\" class=\"dataframe\">\n",
       "  <thead>\n",
       "    <tr style=\"text-align: right;\">\n",
       "      <th></th>\n",
       "      <th>Unnamed: 0</th>\n",
       "      <th>n_visits</th>\n",
       "      <th>n_actions</th>\n",
       "      <th>unique_actions</th>\n",
       "      <th>products_tried</th>\n",
       "      <th>products_added</th>\n",
       "      <th>unique_products_category_tried</th>\n",
       "      <th>unique_products_category_added</th>\n",
       "      <th>saved_to_cart</th>\n",
       "      <th>comments_writen</th>\n",
       "      <th>counts_of_buys</th>\n",
       "      <th>came_back</th>\n",
       "    </tr>\n",
       "  </thead>\n",
       "  <tbody>\n",
       "    <tr>\n",
       "      <th>count</th>\n",
       "      <td>658052.000000</td>\n",
       "      <td>658052.000000</td>\n",
       "      <td>658052.000000</td>\n",
       "      <td>658052.000000</td>\n",
       "      <td>658052.000000</td>\n",
       "      <td>658052.000000</td>\n",
       "      <td>658052.000000</td>\n",
       "      <td>658052.000000</td>\n",
       "      <td>658052.000000</td>\n",
       "      <td>658052.000000</td>\n",
       "      <td>658052.000000</td>\n",
       "      <td>658052.000000</td>\n",
       "    </tr>\n",
       "    <tr>\n",
       "      <th>mean</th>\n",
       "      <td>469962.923185</td>\n",
       "      <td>8.477398</td>\n",
       "      <td>537.548177</td>\n",
       "      <td>65.913323</td>\n",
       "      <td>5.937011</td>\n",
       "      <td>1.210488</td>\n",
       "      <td>10.309620</td>\n",
       "      <td>4.595120</td>\n",
       "      <td>0.529280</td>\n",
       "      <td>3.532087</td>\n",
       "      <td>5.349092</td>\n",
       "      <td>0.320338</td>\n",
       "    </tr>\n",
       "    <tr>\n",
       "      <th>std</th>\n",
       "      <td>271396.332262</td>\n",
       "      <td>30.431194</td>\n",
       "      <td>964.670595</td>\n",
       "      <td>34.721370</td>\n",
       "      <td>16.296478</td>\n",
       "      <td>2.660344</td>\n",
       "      <td>21.909215</td>\n",
       "      <td>5.656423</td>\n",
       "      <td>0.499142</td>\n",
       "      <td>9.826804</td>\n",
       "      <td>13.434137</td>\n",
       "      <td>0.466607</td>\n",
       "    </tr>\n",
       "    <tr>\n",
       "      <th>min</th>\n",
       "      <td>1.000000</td>\n",
       "      <td>1.000000</td>\n",
       "      <td>1.000000</td>\n",
       "      <td>1.000000</td>\n",
       "      <td>0.000000</td>\n",
       "      <td>0.000000</td>\n",
       "      <td>0.000000</td>\n",
       "      <td>0.000000</td>\n",
       "      <td>0.000000</td>\n",
       "      <td>0.000000</td>\n",
       "      <td>0.000000</td>\n",
       "      <td>0.000000</td>\n",
       "    </tr>\n",
       "    <tr>\n",
       "      <th>25%</th>\n",
       "      <td>235061.750000</td>\n",
       "      <td>1.000000</td>\n",
       "      <td>90.000000</td>\n",
       "      <td>41.000000</td>\n",
       "      <td>0.000000</td>\n",
       "      <td>0.000000</td>\n",
       "      <td>0.000000</td>\n",
       "      <td>0.000000</td>\n",
       "      <td>0.000000</td>\n",
       "      <td>0.000000</td>\n",
       "      <td>0.000000</td>\n",
       "      <td>0.000000</td>\n",
       "    </tr>\n",
       "    <tr>\n",
       "      <th>50%</th>\n",
       "      <td>469900.500000</td>\n",
       "      <td>3.000000</td>\n",
       "      <td>236.000000</td>\n",
       "      <td>62.000000</td>\n",
       "      <td>1.000000</td>\n",
       "      <td>0.000000</td>\n",
       "      <td>2.000000</td>\n",
       "      <td>3.000000</td>\n",
       "      <td>1.000000</td>\n",
       "      <td>1.000000</td>\n",
       "      <td>1.000000</td>\n",
       "      <td>0.000000</td>\n",
       "    </tr>\n",
       "    <tr>\n",
       "      <th>75%</th>\n",
       "      <td>705102.250000</td>\n",
       "      <td>8.000000</td>\n",
       "      <td>594.000000</td>\n",
       "      <td>87.000000</td>\n",
       "      <td>4.000000</td>\n",
       "      <td>1.000000</td>\n",
       "      <td>10.000000</td>\n",
       "      <td>7.000000</td>\n",
       "      <td>1.000000</td>\n",
       "      <td>3.000000</td>\n",
       "      <td>6.000000</td>\n",
       "      <td>1.000000</td>\n",
       "    </tr>\n",
       "    <tr>\n",
       "      <th>max</th>\n",
       "      <td>940074.000000</td>\n",
       "      <td>5996.000000</td>\n",
       "      <td>75408.000000</td>\n",
       "      <td>347.000000</td>\n",
       "      <td>596.000000</td>\n",
       "      <td>73.000000</td>\n",
       "      <td>597.000000</td>\n",
       "      <td>118.000000</td>\n",
       "      <td>1.000000</td>\n",
       "      <td>1212.000000</td>\n",
       "      <td>1591.000000</td>\n",
       "      <td>1.000000</td>\n",
       "    </tr>\n",
       "  </tbody>\n",
       "</table>\n",
       "</div>"
      ],
      "text/plain": [
       "          Unnamed: 0       n_visits      n_actions  unique_actions  \\\n",
       "count  658052.000000  658052.000000  658052.000000   658052.000000   \n",
       "mean   469962.923185       8.477398     537.548177       65.913323   \n",
       "std    271396.332262      30.431194     964.670595       34.721370   \n",
       "min         1.000000       1.000000       1.000000        1.000000   \n",
       "25%    235061.750000       1.000000      90.000000       41.000000   \n",
       "50%    469900.500000       3.000000     236.000000       62.000000   \n",
       "75%    705102.250000       8.000000     594.000000       87.000000   \n",
       "max    940074.000000    5996.000000   75408.000000      347.000000   \n",
       "\n",
       "       products_tried  products_added  unique_products_category_tried  \\\n",
       "count   658052.000000   658052.000000                   658052.000000   \n",
       "mean         5.937011        1.210488                       10.309620   \n",
       "std         16.296478        2.660344                       21.909215   \n",
       "min          0.000000        0.000000                        0.000000   \n",
       "25%          0.000000        0.000000                        0.000000   \n",
       "50%          1.000000        0.000000                        2.000000   \n",
       "75%          4.000000        1.000000                       10.000000   \n",
       "max        596.000000       73.000000                      597.000000   \n",
       "\n",
       "       unique_products_category_added  saved_to_cart  comments_writen  \\\n",
       "count                   658052.000000  658052.000000    658052.000000   \n",
       "mean                         4.595120       0.529280         3.532087   \n",
       "std                          5.656423       0.499142         9.826804   \n",
       "min                          0.000000       0.000000         0.000000   \n",
       "25%                          0.000000       0.000000         0.000000   \n",
       "50%                          3.000000       1.000000         1.000000   \n",
       "75%                          7.000000       1.000000         3.000000   \n",
       "max                        118.000000       1.000000      1212.000000   \n",
       "\n",
       "       counts_of_buys      came_back  \n",
       "count   658052.000000  658052.000000  \n",
       "mean         5.349092       0.320338  \n",
       "std         13.434137       0.466607  \n",
       "min          0.000000       0.000000  \n",
       "25%          0.000000       0.000000  \n",
       "50%          1.000000       0.000000  \n",
       "75%          6.000000       1.000000  \n",
       "max       1591.000000       1.000000  "
      ]
     },
     "execution_count": 5,
     "metadata": {},
     "output_type": "execute_result"
    }
   ],
   "source": [
    "data.describe()"
   ]
  },
  {
   "cell_type": "code",
   "execution_count": 6,
   "metadata": {},
   "outputs": [],
   "source": [
    "data = data.drop(['Unnamed: 0'],axis = 1)"
   ]
  },
  {
   "cell_type": "code",
   "execution_count": 8,
   "metadata": {},
   "outputs": [
    {
     "data": {
      "text/html": [
       "<div>\n",
       "<style scoped>\n",
       "    .dataframe tbody tr th:only-of-type {\n",
       "        vertical-align: middle;\n",
       "    }\n",
       "\n",
       "    .dataframe tbody tr th {\n",
       "        vertical-align: top;\n",
       "    }\n",
       "\n",
       "    .dataframe thead th {\n",
       "        text-align: right;\n",
       "    }\n",
       "</style>\n",
       "<table border=\"1\" class=\"dataframe\">\n",
       "  <thead>\n",
       "    <tr style=\"text-align: right;\">\n",
       "      <th></th>\n",
       "      <th>n_visits</th>\n",
       "      <th>n_actions</th>\n",
       "      <th>unique_actions</th>\n",
       "      <th>products_tried</th>\n",
       "      <th>products_added</th>\n",
       "      <th>unique_products_category_tried</th>\n",
       "      <th>unique_products_category_added</th>\n",
       "      <th>saved_to_cart</th>\n",
       "      <th>comments_writen</th>\n",
       "      <th>counts_of_buys</th>\n",
       "      <th>came_back</th>\n",
       "    </tr>\n",
       "  </thead>\n",
       "  <tbody>\n",
       "    <tr>\n",
       "      <th>0</th>\n",
       "      <td>1</td>\n",
       "      <td>63</td>\n",
       "      <td>45</td>\n",
       "      <td>0</td>\n",
       "      <td>0</td>\n",
       "      <td>0</td>\n",
       "      <td>2</td>\n",
       "      <td>1</td>\n",
       "      <td>1</td>\n",
       "      <td>2</td>\n",
       "      <td>0</td>\n",
       "    </tr>\n",
       "    <tr>\n",
       "      <th>1</th>\n",
       "      <td>4</td>\n",
       "      <td>350</td>\n",
       "      <td>72</td>\n",
       "      <td>0</td>\n",
       "      <td>0</td>\n",
       "      <td>0</td>\n",
       "      <td>2</td>\n",
       "      <td>1</td>\n",
       "      <td>4</td>\n",
       "      <td>6</td>\n",
       "      <td>0</td>\n",
       "    </tr>\n",
       "    <tr>\n",
       "      <th>2</th>\n",
       "      <td>12</td>\n",
       "      <td>1019</td>\n",
       "      <td>123</td>\n",
       "      <td>5</td>\n",
       "      <td>2</td>\n",
       "      <td>6</td>\n",
       "      <td>6</td>\n",
       "      <td>1</td>\n",
       "      <td>9</td>\n",
       "      <td>14</td>\n",
       "      <td>0</td>\n",
       "    </tr>\n",
       "    <tr>\n",
       "      <th>3</th>\n",
       "      <td>1</td>\n",
       "      <td>503</td>\n",
       "      <td>124</td>\n",
       "      <td>0</td>\n",
       "      <td>0</td>\n",
       "      <td>30</td>\n",
       "      <td>16</td>\n",
       "      <td>0</td>\n",
       "      <td>0</td>\n",
       "      <td>0</td>\n",
       "      <td>0</td>\n",
       "    </tr>\n",
       "    <tr>\n",
       "      <th>4</th>\n",
       "      <td>15</td>\n",
       "      <td>1869</td>\n",
       "      <td>139</td>\n",
       "      <td>0</td>\n",
       "      <td>0</td>\n",
       "      <td>34</td>\n",
       "      <td>13</td>\n",
       "      <td>1</td>\n",
       "      <td>12</td>\n",
       "      <td>25</td>\n",
       "      <td>1</td>\n",
       "    </tr>\n",
       "  </tbody>\n",
       "</table>\n",
       "</div>"
      ],
      "text/plain": [
       "   n_visits  n_actions  unique_actions  products_tried  products_added  \\\n",
       "0         1         63              45               0               0   \n",
       "1         4        350              72               0               0   \n",
       "2        12       1019             123               5               2   \n",
       "3         1        503             124               0               0   \n",
       "4        15       1869             139               0               0   \n",
       "\n",
       "   unique_products_category_tried  unique_products_category_added  \\\n",
       "0                               0                               2   \n",
       "1                               0                               2   \n",
       "2                               6                               6   \n",
       "3                              30                              16   \n",
       "4                              34                              13   \n",
       "\n",
       "   saved_to_cart  comments_writen  counts_of_buys  came_back  \n",
       "0              1                1               2          0  \n",
       "1              1                4               6          0  \n",
       "2              1                9              14          0  \n",
       "3              0                0               0          0  \n",
       "4              1               12              25          1  "
      ]
     },
     "execution_count": 8,
     "metadata": {},
     "output_type": "execute_result"
    }
   ],
   "source": [
    "data.head()"
   ]
  },
  {
   "cell_type": "markdown",
   "metadata": {},
   "source": [
    "### KNN on raw data "
   ]
  },
  {
   "cell_type": "markdown",
   "metadata": {},
   "source": [
    "Before doing any manipulation on our data, we need to try model our raw data, than we can improve our models by doing data manipulations. So first of all we split our raw data into test and train data. "
   ]
  },
  {
   "cell_type": "code",
   "execution_count": 9,
   "metadata": {},
   "outputs": [
    {
     "name": "stdout",
     "output_type": "stream",
     "text": [
      "Number of observations \n",
      " Train set: 493539\n",
      " Test set: 164513\n"
     ]
    }
   ],
   "source": [
    "target = data['came_back'].astype(int)\n",
    "X = data.drop(columns='came_back')\n",
    "X = pd.get_dummies(X, columns=['saved_to_cart'])\n",
    "\n",
    "train_x,test_x,train_y,test_y = train_test_split(X,target,test_size=0.25,random_state=42)\n",
    "\n",
    "print(f\"Number of observations \\n Train set: {len(train_x)}\\n Test set: {len(test_x)}\")"
   ]
  },
  {
   "cell_type": "markdown",
   "metadata": {},
   "source": [
    "After splitting we need to standardize our data, because in the future we will use KNN and we know that KNN will give higher weights to big values, so we need to standardize them. So all our values will be in the same range. "
   ]
  },
  {
   "cell_type": "code",
   "execution_count": 10,
   "metadata": {},
   "outputs": [],
   "source": [
    "from sklearn.preprocessing import StandardScaler\n",
    "\n",
    "# copy of datasets\n",
    "X_train_stand = train_x.copy()\n",
    "X_test_stand = test_x.copy()\n",
    "\n",
    "# numerical features\n",
    "num_cols = ['n_visits','n_actions','unique_actions','products_tried','products_added','unique_products_category_tried',\n",
    "           'unique_products_category_added','comments_writen','counts_of_buys']\n",
    "\n",
    "# apply standardization on numerical features\n",
    "for i in num_cols:\n",
    "    \n",
    "    # fit on training data column\n",
    "    scale = StandardScaler().fit(X_train_stand[[i]])\n",
    "    \n",
    "    # transform the training data column\n",
    "    X_train_stand[i] = scale.transform(X_train_stand[[i]])\n",
    "    \n",
    "    # transform the testing data column\n",
    "    X_test_stand[i] = scale.transform(X_test_stand[[i]])"
   ]
  },
  {
   "cell_type": "code",
   "execution_count": null,
   "metadata": {},
   "outputs": [],
   "source": [
    "# After standardization we try some model with 9 neighbors to see the accuracy. \n",
    "\n",
    "from sklearn import neighbors\n",
    "KNN_model=neighbors.KNeighborsClassifier(n_neighbors=9 ,n_jobs=-1)\n",
    "\n",
    "KNN_model.fit(X_train_stand,train_y)"
   ]
  },
  {
   "cell_type": "code",
   "execution_count": null,
   "metadata": {},
   "outputs": [],
   "source": [
    "pred=KNN_model.predict(X_test_stand)\n",
    "\n",
    "\n",
    "acc_test = accuracy_score(test_y,pred)\n",
    "acc_test"
   ]
  },
  {
   "cell_type": "code",
   "execution_count": 69,
   "metadata": {},
   "outputs": [],
   "source": [
    "# We plot the f1 scores line chart to understand best K for our KNN model. \n",
    "\n",
    "\n",
    "from sklearn import neighbors \n",
    "from sklearn.metrics import f1_score,confusion_matrix,roc_auc_score\n",
    "f1_list=[]\n",
    "k_list=[]\n",
    "for k in range(1,30):\n",
    "    clf=neighbors.KNeighborsClassifier(n_neighbors=k,n_jobs=-1)\n",
    "    clf.fit(X_train_stand,train_y)\n",
    "    pred=clf.predict(X_test_stand)\n",
    "    f=f1_score(test_y,pred,average='macro')\n",
    "    f1_list.append(f)\n",
    "    k_list.append(k)"
   ]
  },
  {
   "cell_type": "code",
   "execution_count": 70,
   "metadata": {},
   "outputs": [
    {
     "data": {
      "text/plain": [
       "[<matplotlib.lines.Line2D at 0x22a833cc7c0>]"
      ]
     },
     "execution_count": 70,
     "metadata": {},
     "output_type": "execute_result"
    },
    {
     "data": {
      "image/png": "[encoded data removed]",
      "text/plain": [
       "<Figure size 432x288 with 1 Axes>"
      ]
     },
     "metadata": {
      "needs_background": "light"
     },
     "output_type": "display_data"
    }
   ],
   "source": [
    "plt.plot(k_list,f1_list)"
   ]
  },
  {
   "cell_type": "code",
   "execution_count": 11,
   "metadata": {},
   "outputs": [
    {
     "data": {
      "text/plain": [
       "KNeighborsClassifier(n_jobs=-1, n_neighbors=15)"
      ]
     },
     "execution_count": 11,
     "metadata": {},
     "output_type": "execute_result"
    }
   ],
   "source": [
    "from sklearn import neighbors\n",
    "KNN_model=neighbors.KNeighborsClassifier(n_neighbors=15,n_jobs=-1)\n",
    "\n",
    "KNN_model.fit(X_train_stand,train_y)"
   ]
  },
  {
   "cell_type": "code",
   "execution_count": 15,
   "metadata": {},
   "outputs": [
    {
     "data": {
      "text/plain": [
       "0.7817862418167562"
      ]
     },
     "execution_count": 15,
     "metadata": {},
     "output_type": "execute_result"
    }
   ],
   "source": [
    "#So we will get 0.78 accuracy for raw test data with this model. \n",
    "\n",
    "pred=KNN_model.predict(X_test_stand)\n",
    "\n",
    "\n",
    "acc_test = accuracy_score(test_y,pred)\n",
    "acc_test"
   ]
  },
  {
   "cell_type": "code",
   "execution_count": 19,
   "metadata": {},
   "outputs": [
    {
     "data": {
      "text/plain": [
       "0.7518524226161112"
      ]
     },
     "execution_count": 19,
     "metadata": {},
     "output_type": "execute_result"
    }
   ],
   "source": [
    "prec = precision_score(test_y,pred,average = 'macro')\n",
    "prec"
   ]
  },
  {
   "cell_type": "code",
   "execution_count": 18,
   "metadata": {},
   "outputs": [
    {
     "data": {
      "text/plain": [
       "0.7386406453701402"
      ]
     },
     "execution_count": 18,
     "metadata": {},
     "output_type": "execute_result"
    }
   ],
   "source": [
    "f1_score(test_y,pred,average = 'macro')"
   ]
  },
  {
   "cell_type": "code",
   "execution_count": 21,
   "metadata": {},
   "outputs": [
    {
     "name": "stdout",
     "output_type": "stream",
     "text": [
      "              precision    recall  f1-score   support\n",
      "\n",
      "           0       0.82      0.87      0.84    111886\n",
      "           1       0.69      0.59      0.63     52627\n",
      "\n",
      "    accuracy                           0.78    164513\n",
      "   macro avg       0.75      0.73      0.74    164513\n",
      "weighted avg       0.78      0.78      0.78    164513\n",
      "\n"
     ]
    }
   ],
   "source": [
    "from sklearn.metrics import classification_report\n",
    "\n",
    "print(classification_report(test_y, pred))"
   ]
  },
  {
   "cell_type": "markdown",
   "metadata": {},
   "source": [
    "### Decision Tree for raw data "
   ]
  },
  {
   "cell_type": "code",
   "execution_count": 22,
   "metadata": {},
   "outputs": [],
   "source": [
    "# Now we try Decision Tree for raw data and without any specified hyperparametr. \n",
    "\n",
    "model = DecisionTreeClassifier()\n",
    "model.fit(X_train_stand,train_y)\n",
    "pred_dc = model.predict(X_test_stand)\n",
    "acc_dc = accuracy_score(test_y,pred_dc)"
   ]
  },
  {
   "cell_type": "code",
   "execution_count": 24,
   "metadata": {},
   "outputs": [
    {
     "data": {
      "text/plain": [
       "0.7310729243281686"
      ]
     },
     "execution_count": 24,
     "metadata": {},
     "output_type": "execute_result"
    }
   ],
   "source": [
    "acc_dc"
   ]
  },
  {
   "cell_type": "markdown",
   "metadata": {},
   "source": [
    "So we can also find most optimal decision tree by GridSearch"
   ]
  },
  {
   "cell_type": "code",
   "execution_count": 157,
   "metadata": {},
   "outputs": [
    {
     "name": "stdout",
     "output_type": "stream",
     "text": [
      "Best Criterion: entropy\n",
      "Best max_depth: 8\n",
      "Best Number Of Components: 8\n"
     ]
    }
   ],
   "source": [
    "from sklearn.model_selection import GridSearchCV\n",
    "\n",
    "tree_params = {\"criterion\": [\"gini\", \"entropy\"], \"max_depth\": list(range(2,20,1)), \n",
    "              \"min_samples_leaf\": list(range(5,9,1))}\n",
    "grid_tree = GridSearchCV(DecisionTreeClassifier(), tree_params)\n",
    "grid_tree.fit(X_train_stand, train_y)\n",
    "\n",
    "print('Best Criterion:', grid_tree.best_estimator_.get_params()['criterion'])\n",
    "print('Best max_depth:', grid_tree.best_estimator_.get_params()['max_depth'])\n",
    "print('Best Number Of Components:', grid_tree.best_estimator_.get_params()['min_samples_leaf'])"
   ]
  },
  {
   "cell_type": "code",
   "execution_count": 158,
   "metadata": {},
   "outputs": [
    {
     "data": {
      "text/plain": [
       "0.7993167713189839"
      ]
     },
     "execution_count": 158,
     "metadata": {},
     "output_type": "execute_result"
    }
   ],
   "source": [
    "model1 = DecisionTreeClassifier(criterion='entropy',max_depth=8,min_samples_leaf=8)\n",
    "model1.fit(X_train_stand,train_y)\n",
    "pred_dc1 = model1.predict(X_test_stand)\n",
    "acc_dc_op = accuracy_score(test_y,pred_dc1)\n",
    "acc_dc_op"
   ]
  },
  {
   "cell_type": "code",
   "execution_count": 159,
   "metadata": {},
   "outputs": [
    {
     "name": "stdout",
     "output_type": "stream",
     "text": [
      "              precision    recall  f1-score   support\n",
      "\n",
      "           0       0.83      0.88      0.86    111886\n",
      "           1       0.72      0.62      0.66     52627\n",
      "\n",
      "    accuracy                           0.80    164513\n",
      "   macro avg       0.77      0.75      0.76    164513\n",
      "weighted avg       0.79      0.80      0.80    164513\n",
      "\n"
     ]
    }
   ],
   "source": [
    "print(classification_report(test_y, pred_dc1))"
   ]
  },
  {
   "cell_type": "markdown",
   "metadata": {},
   "source": [
    "### Data without outliers and with upsampling "
   ]
  },
  {
   "cell_type": "markdown",
   "metadata": {},
   "source": [
    "In previous section we have tried to model our raw data. In this section we will try to get rid of outliers. After dropping outliers we will balance our data by upsampling , because we have very unbalanced data. "
   ]
  },
  {
   "cell_type": "code",
   "execution_count": 30,
   "metadata": {},
   "outputs": [
    {
     "data": {
      "text/html": [
       "<div>\n",
       "<style scoped>\n",
       "    .dataframe tbody tr th:only-of-type {\n",
       "        vertical-align: middle;\n",
       "    }\n",
       "\n",
       "    .dataframe tbody tr th {\n",
       "        vertical-align: top;\n",
       "    }\n",
       "\n",
       "    .dataframe thead th {\n",
       "        text-align: right;\n",
       "    }\n",
       "</style>\n",
       "<table border=\"1\" class=\"dataframe\">\n",
       "  <thead>\n",
       "    <tr style=\"text-align: right;\">\n",
       "      <th></th>\n",
       "      <th>n_visits</th>\n",
       "      <th>n_actions</th>\n",
       "      <th>unique_actions</th>\n",
       "      <th>products_tried</th>\n",
       "      <th>products_added</th>\n",
       "      <th>unique_products_category_tried</th>\n",
       "      <th>unique_products_category_added</th>\n",
       "      <th>saved_to_cart</th>\n",
       "      <th>comments_writen</th>\n",
       "      <th>counts_of_buys</th>\n",
       "      <th>came_back</th>\n",
       "    </tr>\n",
       "  </thead>\n",
       "  <tbody>\n",
       "    <tr>\n",
       "      <th>0</th>\n",
       "      <td>1</td>\n",
       "      <td>63</td>\n",
       "      <td>45</td>\n",
       "      <td>0</td>\n",
       "      <td>0</td>\n",
       "      <td>0</td>\n",
       "      <td>2</td>\n",
       "      <td>1</td>\n",
       "      <td>1</td>\n",
       "      <td>2</td>\n",
       "      <td>0</td>\n",
       "    </tr>\n",
       "    <tr>\n",
       "      <th>1</th>\n",
       "      <td>4</td>\n",
       "      <td>350</td>\n",
       "      <td>72</td>\n",
       "      <td>0</td>\n",
       "      <td>0</td>\n",
       "      <td>0</td>\n",
       "      <td>2</td>\n",
       "      <td>1</td>\n",
       "      <td>4</td>\n",
       "      <td>6</td>\n",
       "      <td>0</td>\n",
       "    </tr>\n",
       "    <tr>\n",
       "      <th>2</th>\n",
       "      <td>12</td>\n",
       "      <td>1019</td>\n",
       "      <td>123</td>\n",
       "      <td>5</td>\n",
       "      <td>2</td>\n",
       "      <td>6</td>\n",
       "      <td>6</td>\n",
       "      <td>1</td>\n",
       "      <td>9</td>\n",
       "      <td>14</td>\n",
       "      <td>0</td>\n",
       "    </tr>\n",
       "    <tr>\n",
       "      <th>3</th>\n",
       "      <td>1</td>\n",
       "      <td>503</td>\n",
       "      <td>124</td>\n",
       "      <td>0</td>\n",
       "      <td>0</td>\n",
       "      <td>30</td>\n",
       "      <td>16</td>\n",
       "      <td>0</td>\n",
       "      <td>0</td>\n",
       "      <td>0</td>\n",
       "      <td>0</td>\n",
       "    </tr>\n",
       "    <tr>\n",
       "      <th>4</th>\n",
       "      <td>15</td>\n",
       "      <td>1869</td>\n",
       "      <td>139</td>\n",
       "      <td>0</td>\n",
       "      <td>0</td>\n",
       "      <td>34</td>\n",
       "      <td>13</td>\n",
       "      <td>1</td>\n",
       "      <td>12</td>\n",
       "      <td>25</td>\n",
       "      <td>1</td>\n",
       "    </tr>\n",
       "  </tbody>\n",
       "</table>\n",
       "</div>"
      ],
      "text/plain": [
       "   n_visits  n_actions  unique_actions  products_tried  products_added  \\\n",
       "0         1         63              45               0               0   \n",
       "1         4        350              72               0               0   \n",
       "2        12       1019             123               5               2   \n",
       "3         1        503             124               0               0   \n",
       "4        15       1869             139               0               0   \n",
       "\n",
       "   unique_products_category_tried  unique_products_category_added  \\\n",
       "0                               0                               2   \n",
       "1                               0                               2   \n",
       "2                               6                               6   \n",
       "3                              30                              16   \n",
       "4                              34                              13   \n",
       "\n",
       "   saved_to_cart  comments_writen  counts_of_buys  came_back  \n",
       "0              1                1               2          0  \n",
       "1              1                4               6          0  \n",
       "2              1                9              14          0  \n",
       "3              0                0               0          0  \n",
       "4              1               12              25          1  "
      ]
     },
     "execution_count": 30,
     "metadata": {},
     "output_type": "execute_result"
    }
   ],
   "source": [
    "data.head()"
   ]
  },
  {
   "cell_type": "code",
   "execution_count": 31,
   "metadata": {},
   "outputs": [
    {
     "data": {
      "text/plain": [
       "0    447253\n",
       "1    210799\n",
       "Name: came_back, dtype: int64"
      ]
     },
     "execution_count": 31,
     "metadata": {},
     "output_type": "execute_result"
    }
   ],
   "source": [
    "# As we can see we have 2 times more 0-s than 1-s. \n",
    "data['came_back'].value_counts()"
   ]
  },
  {
   "cell_type": "code",
   "execution_count": 32,
   "metadata": {},
   "outputs": [
    {
     "data": {
      "text/plain": [
       "<matplotlib.axes._subplots.AxesSubplot at 0x19fddda96d0>"
      ]
     },
     "execution_count": 32,
     "metadata": {},
     "output_type": "execute_result"
    },
    {
     "data": {
      "image/png": "[encoded data removed]",
      "text/plain": [
       "<Figure size 432x288 with 1 Axes>"
      ]
     },
     "metadata": {
      "needs_background": "light"
     },
     "output_type": "display_data"
    }
   ],
   "source": [
    "sns.countplot(data['came_back'])"
   ]
  },
  {
   "cell_type": "markdown",
   "metadata": {},
   "source": [
    "So we have unbalanced data. To get more accurate results we need to do downsampling or upsampling.We will do only upsampling."
   ]
  },
  {
   "cell_type": "code",
   "execution_count": 33,
   "metadata": {},
   "outputs": [],
   "source": [
    "def plot_continuous(dataset, var_name):\n",
    "    sns.distplot(dataset[var_name])\n",
    "    plt.axvline(dataset[var_name].mean(), color='k', linestyle='dashed', linewidth=1)\n",
    "    plt.axvline(dataset[var_name].median(), color='r', linewidth=1)\n",
    "    plt.title(f'Distribution of variable \"{var_name}\"')"
   ]
  },
  {
   "cell_type": "code",
   "execution_count": 34,
   "metadata": {},
   "outputs": [
    {
     "data": {
      "image/png": "[encoded data removed]",
      "text/plain": [
       "<Figure size 432x288 with 1 Axes>"
      ]
     },
     "metadata": {
      "needs_background": "light"
     },
     "output_type": "display_data"
    }
   ],
   "source": [
    "plot_continuous(data,'n_visits')"
   ]
  },
  {
   "cell_type": "code",
   "execution_count": 35,
   "metadata": {},
   "outputs": [
    {
     "data": {
      "image/png": "[encoded data removed]",
      "text/plain": [
       "<Figure size 432x288 with 1 Axes>"
      ]
     },
     "metadata": {
      "needs_background": "light"
     },
     "output_type": "display_data"
    }
   ],
   "source": [
    "plot_continuous(data,'n_actions')"
   ]
  },
  {
   "cell_type": "code",
   "execution_count": 36,
   "metadata": {},
   "outputs": [
    {
     "data": {
      "image/png": "[encoded data removed]",
      "text/plain": [
       "<Figure size 432x288 with 1 Axes>"
      ]
     },
     "metadata": {
      "needs_background": "light"
     },
     "output_type": "display_data"
    }
   ],
   "source": [
    "plot_continuous(data,'products_tried')"
   ]
  },
  {
   "cell_type": "code",
   "execution_count": 37,
   "metadata": {},
   "outputs": [
    {
     "data": {
      "image/png": "[encoded data removed]",
      "text/plain": [
       "<Figure size 432x288 with 1 Axes>"
      ]
     },
     "metadata": {
      "needs_background": "light"
     },
     "output_type": "display_data"
    }
   ],
   "source": [
    "plot_continuous(data,'products_added')"
   ]
  },
  {
   "cell_type": "markdown",
   "metadata": {},
   "source": [
    "After plotting, we can see that data concentrated at the beginning of the x-axis. So we can conclude that we have outliers. "
   ]
  },
  {
   "cell_type": "code",
   "execution_count": 38,
   "metadata": {},
   "outputs": [
    {
     "data": {
      "text/plain": [
       "<matplotlib.axes._subplots.AxesSubplot at 0x19fe5aa97c0>"
      ]
     },
     "execution_count": 38,
     "metadata": {},
     "output_type": "execute_result"
    },
    {
     "data": {
      "image/png": "[encoded data removed]",
      "text/plain": [
       "<Figure size 432x288 with 1 Axes>"
      ]
     },
     "metadata": {
      "needs_background": "light"
     },
     "output_type": "display_data"
    }
   ],
   "source": [
    "sns.countplot(data['saved_to_cart'])"
   ]
  },
  {
   "cell_type": "code",
   "execution_count": 39,
   "metadata": {},
   "outputs": [
    {
     "data": {
      "image/png": "[encoded data removed]",
      "text/plain": [
       "<Figure size 432x288 with 1 Axes>"
      ]
     },
     "metadata": {
      "needs_background": "light"
     },
     "output_type": "display_data"
    }
   ],
   "source": [
    "plot_continuous(data,'counts_of_buys')"
   ]
  },
  {
   "cell_type": "code",
   "execution_count": 40,
   "metadata": {},
   "outputs": [
    {
     "data": {
      "image/png": "[encoded data removed]",
      "text/plain": [
       "<Figure size 432x288 with 1 Axes>"
      ]
     },
     "metadata": {
      "needs_background": "light"
     },
     "output_type": "display_data"
    }
   ],
   "source": [
    "plt.boxplot(data[\"n_visits\"])\n",
    "plt.show()"
   ]
  },
  {
   "cell_type": "code",
   "execution_count": 41,
   "metadata": {},
   "outputs": [
    {
     "data": {
      "image/png": "[encoded data removed]",
      "text/plain": [
       "<Figure size 432x288 with 1 Axes>"
      ]
     },
     "metadata": {
      "needs_background": "light"
     },
     "output_type": "display_data"
    }
   ],
   "source": [
    "plt.boxplot(data[\"n_actions\"])\n",
    "plt.show()"
   ]
  },
  {
   "cell_type": "code",
   "execution_count": 42,
   "metadata": {},
   "outputs": [
    {
     "data": {
      "text/plain": [
       "<matplotlib.axes._subplots.AxesSubplot at 0x19fe7318d30>"
      ]
     },
     "execution_count": 42,
     "metadata": {},
     "output_type": "execute_result"
    },
    {
     "data": {
      "image/png": "[encoded data removed]",
      "text/plain": [
       "<Figure size 432x288 with 1 Axes>"
      ]
     },
     "metadata": {
      "needs_background": "light"
     },
     "output_type": "display_data"
    }
   ],
   "source": [
    "# Boxplot helps us to prove out hypothesis that we have outliers. \n",
    "\n",
    "sns.boxplot(x = 'products_tried',data = data)"
   ]
  },
  {
   "cell_type": "code",
   "execution_count": 43,
   "metadata": {},
   "outputs": [
    {
     "data": {
      "text/html": [
       "<div>\n",
       "<style scoped>\n",
       "    .dataframe tbody tr th:only-of-type {\n",
       "        vertical-align: middle;\n",
       "    }\n",
       "\n",
       "    .dataframe tbody tr th {\n",
       "        vertical-align: top;\n",
       "    }\n",
       "\n",
       "    .dataframe thead th {\n",
       "        text-align: right;\n",
       "    }\n",
       "</style>\n",
       "<table border=\"1\" class=\"dataframe\">\n",
       "  <thead>\n",
       "    <tr style=\"text-align: right;\">\n",
       "      <th></th>\n",
       "      <th>n_visits</th>\n",
       "      <th>n_actions</th>\n",
       "      <th>unique_actions</th>\n",
       "      <th>products_tried</th>\n",
       "      <th>products_added</th>\n",
       "      <th>unique_products_category_tried</th>\n",
       "      <th>unique_products_category_added</th>\n",
       "      <th>saved_to_cart</th>\n",
       "      <th>comments_writen</th>\n",
       "      <th>counts_of_buys</th>\n",
       "      <th>came_back</th>\n",
       "    </tr>\n",
       "  </thead>\n",
       "  <tbody>\n",
       "    <tr>\n",
       "      <th>0</th>\n",
       "      <td>1.0</td>\n",
       "      <td>63.0</td>\n",
       "      <td>45.0</td>\n",
       "      <td>0.0</td>\n",
       "      <td>0.0</td>\n",
       "      <td>0.0</td>\n",
       "      <td>2.0</td>\n",
       "      <td>1</td>\n",
       "      <td>1.0</td>\n",
       "      <td>2.0</td>\n",
       "      <td>0</td>\n",
       "    </tr>\n",
       "    <tr>\n",
       "      <th>1</th>\n",
       "      <td>4.0</td>\n",
       "      <td>350.0</td>\n",
       "      <td>72.0</td>\n",
       "      <td>0.0</td>\n",
       "      <td>0.0</td>\n",
       "      <td>0.0</td>\n",
       "      <td>2.0</td>\n",
       "      <td>1</td>\n",
       "      <td>4.0</td>\n",
       "      <td>6.0</td>\n",
       "      <td>0</td>\n",
       "    </tr>\n",
       "    <tr>\n",
       "      <th>2</th>\n",
       "      <td>12.0</td>\n",
       "      <td>1019.0</td>\n",
       "      <td>123.0</td>\n",
       "      <td>5.0</td>\n",
       "      <td>2.0</td>\n",
       "      <td>6.0</td>\n",
       "      <td>6.0</td>\n",
       "      <td>1</td>\n",
       "      <td>NaN</td>\n",
       "      <td>14.0</td>\n",
       "      <td>0</td>\n",
       "    </tr>\n",
       "    <tr>\n",
       "      <th>3</th>\n",
       "      <td>1.0</td>\n",
       "      <td>503.0</td>\n",
       "      <td>124.0</td>\n",
       "      <td>0.0</td>\n",
       "      <td>0.0</td>\n",
       "      <td>NaN</td>\n",
       "      <td>16.0</td>\n",
       "      <td>0</td>\n",
       "      <td>0.0</td>\n",
       "      <td>0.0</td>\n",
       "      <td>0</td>\n",
       "    </tr>\n",
       "    <tr>\n",
       "      <th>4</th>\n",
       "      <td>15.0</td>\n",
       "      <td>NaN</td>\n",
       "      <td>139.0</td>\n",
       "      <td>0.0</td>\n",
       "      <td>0.0</td>\n",
       "      <td>NaN</td>\n",
       "      <td>13.0</td>\n",
       "      <td>1</td>\n",
       "      <td>NaN</td>\n",
       "      <td>NaN</td>\n",
       "      <td>1</td>\n",
       "    </tr>\n",
       "  </tbody>\n",
       "</table>\n",
       "</div>"
      ],
      "text/plain": [
       "   n_visits  n_actions  unique_actions  products_tried  products_added  \\\n",
       "0       1.0       63.0            45.0             0.0             0.0   \n",
       "1       4.0      350.0            72.0             0.0             0.0   \n",
       "2      12.0     1019.0           123.0             5.0             2.0   \n",
       "3       1.0      503.0           124.0             0.0             0.0   \n",
       "4      15.0        NaN           139.0             0.0             0.0   \n",
       "\n",
       "   unique_products_category_tried  unique_products_category_added  \\\n",
       "0                             0.0                             2.0   \n",
       "1                             0.0                             2.0   \n",
       "2                             6.0                             6.0   \n",
       "3                             NaN                            16.0   \n",
       "4                             NaN                            13.0   \n",
       "\n",
       "   saved_to_cart  comments_writen  counts_of_buys  came_back  \n",
       "0              1              1.0             2.0          0  \n",
       "1              1              4.0             6.0          0  \n",
       "2              1              NaN            14.0          0  \n",
       "3              0              0.0             0.0          0  \n",
       "4              1              NaN             NaN          1  "
      ]
     },
     "execution_count": 43,
     "metadata": {},
     "output_type": "execute_result"
    }
   ],
   "source": [
    "# As we have so many outliers we will drop them by using the IQR method.\n",
    "\n",
    "def remove_outlier_IQR(df):\n",
    "    Q1=df.quantile(0.25)\n",
    "    Q3=df.quantile(0.75)\n",
    "    IQR=Q3-Q1\n",
    "    df_final=df[~((df<(Q1-1.5*IQR)) | (df>(Q3+1.5*IQR)))]\n",
    "    return df_final\n",
    "\n",
    "data1=remove_outlier_IQR(data)\n",
    "data1.head()"
   ]
  },
  {
   "cell_type": "code",
   "execution_count": 44,
   "metadata": {},
   "outputs": [],
   "source": [
    "data1 = data1.dropna()"
   ]
  },
  {
   "cell_type": "code",
   "execution_count": 45,
   "metadata": {},
   "outputs": [
    {
     "data": {
      "text/html": [
       "<div>\n",
       "<style scoped>\n",
       "    .dataframe tbody tr th:only-of-type {\n",
       "        vertical-align: middle;\n",
       "    }\n",
       "\n",
       "    .dataframe tbody tr th {\n",
       "        vertical-align: top;\n",
       "    }\n",
       "\n",
       "    .dataframe thead th {\n",
       "        text-align: right;\n",
       "    }\n",
       "</style>\n",
       "<table border=\"1\" class=\"dataframe\">\n",
       "  <thead>\n",
       "    <tr style=\"text-align: right;\">\n",
       "      <th></th>\n",
       "      <th>n_visits</th>\n",
       "      <th>n_actions</th>\n",
       "      <th>unique_actions</th>\n",
       "      <th>products_tried</th>\n",
       "      <th>products_added</th>\n",
       "      <th>unique_products_category_tried</th>\n",
       "      <th>unique_products_category_added</th>\n",
       "      <th>saved_to_cart</th>\n",
       "      <th>comments_writen</th>\n",
       "      <th>counts_of_buys</th>\n",
       "      <th>came_back</th>\n",
       "    </tr>\n",
       "  </thead>\n",
       "  <tbody>\n",
       "    <tr>\n",
       "      <th>count</th>\n",
       "      <td>436415.000000</td>\n",
       "      <td>436415.000000</td>\n",
       "      <td>436415.000000</td>\n",
       "      <td>436415.000000</td>\n",
       "      <td>436415.000000</td>\n",
       "      <td>436415.000000</td>\n",
       "      <td>436415.000000</td>\n",
       "      <td>436415.000000</td>\n",
       "      <td>436415.000000</td>\n",
       "      <td>436415.000000</td>\n",
       "      <td>436415.000000</td>\n",
       "    </tr>\n",
       "    <tr>\n",
       "      <th>mean</th>\n",
       "      <td>3.441426</td>\n",
       "      <td>216.546407</td>\n",
       "      <td>51.850001</td>\n",
       "      <td>1.232455</td>\n",
       "      <td>0.396705</td>\n",
       "      <td>2.738556</td>\n",
       "      <td>2.382833</td>\n",
       "      <td>0.387551</td>\n",
       "      <td>0.960822</td>\n",
       "      <td>1.614766</td>\n",
       "      <td>0.196444</td>\n",
       "    </tr>\n",
       "    <tr>\n",
       "      <th>std</th>\n",
       "      <td>3.256506</td>\n",
       "      <td>228.730176</td>\n",
       "      <td>25.799494</td>\n",
       "      <td>2.057980</td>\n",
       "      <td>0.667741</td>\n",
       "      <td>4.724117</td>\n",
       "      <td>2.935041</td>\n",
       "      <td>0.487192</td>\n",
       "      <td>1.593692</td>\n",
       "      <td>2.609534</td>\n",
       "      <td>0.397308</td>\n",
       "    </tr>\n",
       "    <tr>\n",
       "      <th>min</th>\n",
       "      <td>1.000000</td>\n",
       "      <td>1.000000</td>\n",
       "      <td>1.000000</td>\n",
       "      <td>0.000000</td>\n",
       "      <td>0.000000</td>\n",
       "      <td>0.000000</td>\n",
       "      <td>0.000000</td>\n",
       "      <td>0.000000</td>\n",
       "      <td>0.000000</td>\n",
       "      <td>0.000000</td>\n",
       "      <td>0.000000</td>\n",
       "    </tr>\n",
       "    <tr>\n",
       "      <th>25%</th>\n",
       "      <td>1.000000</td>\n",
       "      <td>61.000000</td>\n",
       "      <td>34.000000</td>\n",
       "      <td>0.000000</td>\n",
       "      <td>0.000000</td>\n",
       "      <td>0.000000</td>\n",
       "      <td>0.000000</td>\n",
       "      <td>0.000000</td>\n",
       "      <td>0.000000</td>\n",
       "      <td>0.000000</td>\n",
       "      <td>0.000000</td>\n",
       "    </tr>\n",
       "    <tr>\n",
       "      <th>50%</th>\n",
       "      <td>2.000000</td>\n",
       "      <td>136.000000</td>\n",
       "      <td>50.000000</td>\n",
       "      <td>0.000000</td>\n",
       "      <td>0.000000</td>\n",
       "      <td>1.000000</td>\n",
       "      <td>2.000000</td>\n",
       "      <td>0.000000</td>\n",
       "      <td>0.000000</td>\n",
       "      <td>0.000000</td>\n",
       "      <td>0.000000</td>\n",
       "    </tr>\n",
       "    <tr>\n",
       "      <th>75%</th>\n",
       "      <td>5.000000</td>\n",
       "      <td>290.000000</td>\n",
       "      <td>69.000000</td>\n",
       "      <td>2.000000</td>\n",
       "      <td>1.000000</td>\n",
       "      <td>3.000000</td>\n",
       "      <td>4.000000</td>\n",
       "      <td>1.000000</td>\n",
       "      <td>1.000000</td>\n",
       "      <td>2.000000</td>\n",
       "      <td>0.000000</td>\n",
       "    </tr>\n",
       "    <tr>\n",
       "      <th>max</th>\n",
       "      <td>18.000000</td>\n",
       "      <td>1350.000000</td>\n",
       "      <td>156.000000</td>\n",
       "      <td>10.000000</td>\n",
       "      <td>2.000000</td>\n",
       "      <td>25.000000</td>\n",
       "      <td>17.000000</td>\n",
       "      <td>1.000000</td>\n",
       "      <td>7.000000</td>\n",
       "      <td>15.000000</td>\n",
       "      <td>1.000000</td>\n",
       "    </tr>\n",
       "  </tbody>\n",
       "</table>\n",
       "</div>"
      ],
      "text/plain": [
       "            n_visits      n_actions  unique_actions  products_tried  \\\n",
       "count  436415.000000  436415.000000   436415.000000   436415.000000   \n",
       "mean        3.441426     216.546407       51.850001        1.232455   \n",
       "std         3.256506     228.730176       25.799494        2.057980   \n",
       "min         1.000000       1.000000        1.000000        0.000000   \n",
       "25%         1.000000      61.000000       34.000000        0.000000   \n",
       "50%         2.000000     136.000000       50.000000        0.000000   \n",
       "75%         5.000000     290.000000       69.000000        2.000000   \n",
       "max        18.000000    1350.000000      156.000000       10.000000   \n",
       "\n",
       "       products_added  unique_products_category_tried  \\\n",
       "count   436415.000000                   436415.000000   \n",
       "mean         0.396705                        2.738556   \n",
       "std          0.667741                        4.724117   \n",
       "min          0.000000                        0.000000   \n",
       "25%          0.000000                        0.000000   \n",
       "50%          0.000000                        1.000000   \n",
       "75%          1.000000                        3.000000   \n",
       "max          2.000000                       25.000000   \n",
       "\n",
       "       unique_products_category_added  saved_to_cart  comments_writen  \\\n",
       "count                   436415.000000  436415.000000    436415.000000   \n",
       "mean                         2.382833       0.387551         0.960822   \n",
       "std                          2.935041       0.487192         1.593692   \n",
       "min                          0.000000       0.000000         0.000000   \n",
       "25%                          0.000000       0.000000         0.000000   \n",
       "50%                          2.000000       0.000000         0.000000   \n",
       "75%                          4.000000       1.000000         1.000000   \n",
       "max                         17.000000       1.000000         7.000000   \n",
       "\n",
       "       counts_of_buys      came_back  \n",
       "count   436415.000000  436415.000000  \n",
       "mean         1.614766       0.196444  \n",
       "std          2.609534       0.397308  \n",
       "min          0.000000       0.000000  \n",
       "25%          0.000000       0.000000  \n",
       "50%          0.000000       0.000000  \n",
       "75%          2.000000       0.000000  \n",
       "max         15.000000       1.000000  "
      ]
     },
     "execution_count": 45,
     "metadata": {},
     "output_type": "execute_result"
    }
   ],
   "source": [
    "data1.describe()"
   ]
  },
  {
   "cell_type": "code",
   "execution_count": 46,
   "metadata": {},
   "outputs": [
    {
     "data": {
      "text/plain": [
       "<matplotlib.axes._subplots.AxesSubplot at 0x19fe5aa3d60>"
      ]
     },
     "execution_count": 46,
     "metadata": {},
     "output_type": "execute_result"
    },
    {
     "data": {
      "image/png": "[encoded data removed]",
      "text/plain": [
       "<Figure size 432x288 with 1 Axes>"
      ]
     },
     "metadata": {
      "needs_background": "light"
     },
     "output_type": "display_data"
    }
   ],
   "source": [
    "sns.countplot(data1['came_back'])"
   ]
  },
  {
   "cell_type": "code",
   "execution_count": 47,
   "metadata": {},
   "outputs": [
    {
     "data": {
      "text/plain": [
       "0    350684\n",
       "1     85731\n",
       "Name: came_back, dtype: int64"
      ]
     },
     "execution_count": 47,
     "metadata": {},
     "output_type": "execute_result"
    }
   ],
   "source": [
    "data1['came_back'].value_counts()"
   ]
  },
  {
   "cell_type": "code",
   "execution_count": 48,
   "metadata": {},
   "outputs": [
    {
     "data": {
      "text/plain": [
       "<matplotlib.axes._subplots.AxesSubplot at 0x19fe592ccd0>"
      ]
     },
     "execution_count": 48,
     "metadata": {},
     "output_type": "execute_result"
    },
    {
     "data": {
      "image/png": "[encoded data removed]",
      "text/plain": [
       "<Figure size 432x288 with 1 Axes>"
      ]
     },
     "metadata": {
      "needs_background": "light"
     },
     "output_type": "display_data"
    }
   ],
   "source": [
    "sns.boxplot(x = 'products_tried',data = data1)"
   ]
  },
  {
   "cell_type": "markdown",
   "metadata": {},
   "source": [
    "#### Upsampling the data "
   ]
  },
  {
   "cell_type": "markdown",
   "metadata": {},
   "source": [
    "After dropping outliers we want to upsample, balance our data. But first of all we need to split our data into\n",
    "test and train datasets. Why we do this? Because when we do upsampling we replace some observations and this can affect \n",
    "our result if we do the same in the test dataset. So we split our clean data , than on the train dataset we will do upsampling. \n"
   ]
  },
  {
   "cell_type": "code",
   "execution_count": 50,
   "metadata": {},
   "outputs": [
    {
     "name": "stdout",
     "output_type": "stream",
     "text": [
      "Number of observations \n",
      " Train set: 327311\n",
      " Test set: 109104\n"
     ]
    }
   ],
   "source": [
    "target1 = data1['came_back'].astype(int)\n",
    "X1 = data1.drop(columns='came_back')\n",
    "X1 = pd.get_dummies(X1, columns=['saved_to_cart'])\n",
    "\n",
    "train_x1,test_x1,train_y1,test_y1 = train_test_split(X1,target1,test_size=0.25,random_state=42)\n",
    "\n",
    "print(f\"Number of observations \\n Train set: {len(train_x1)}\\n Test set: {len(test_x1)}\")"
   ]
  },
  {
   "cell_type": "code",
   "execution_count": 51,
   "metadata": {},
   "outputs": [
    {
     "data": {
      "text/plain": [
       "(262894, 12)"
      ]
     },
     "execution_count": 51,
     "metadata": {},
     "output_type": "execute_result"
    }
   ],
   "source": [
    "train1 = pd.concat([train_x1, train_y1],  axis = 1)\n",
    "majority = train1[train1.came_back==0]\n",
    "minority = train1[train1.came_back==1]\n",
    "majority.shape"
   ]
  },
  {
   "cell_type": "code",
   "execution_count": 52,
   "metadata": {},
   "outputs": [
    {
     "data": {
      "text/plain": [
       "1    262894\n",
       "0    262894\n",
       "Name: came_back, dtype: int64"
      ]
     },
     "execution_count": 52,
     "metadata": {},
     "output_type": "execute_result"
    }
   ],
   "source": [
    "upsample = resample(minority, \n",
    "                       replace=True,    \n",
    "                       n_samples=262894,     \n",
    "                       random_state=42) \n",
    " \n",
    "\n",
    "upsample = pd.concat([majority,upsample])\n",
    " \n",
    "upsample['came_back'].value_counts()"
   ]
  },
  {
   "cell_type": "code",
   "execution_count": 108,
   "metadata": {},
   "outputs": [
    {
     "name": "stdout",
     "output_type": "stream",
     "text": [
      "Number of observations \n",
      " Train set: 525788\n",
      " Test set: 109104\n"
     ]
    }
   ],
   "source": [
    "train_y_up = upsample['came_back'].astype(int)\n",
    "train_x_up = upsample.drop(columns='came_back',axis = 1)\n",
    "\n",
    "print(f\"Number of observations \\n Train set: {len(train_x_up)}\\n Test set: {len(test_x1)}\")"
   ]
  },
  {
   "cell_type": "code",
   "execution_count": 109,
   "metadata": {},
   "outputs": [],
   "source": [
    "X_train_stand_up = train_x_up.copy()\n",
    "X_test_stand_up = test_x1.copy()\n",
    "\n",
    "# numerical features\n",
    "num_cols = ['n_visits','n_actions','unique_actions','products_tried','products_added','unique_products_category_tried',\n",
    "           'unique_products_category_added','comments_writen','counts_of_buys']\n",
    "\n",
    "# apply standardization on numerical features\n",
    "for i in num_cols:\n",
    "    \n",
    "    # fit on training data column\n",
    "    scale = StandardScaler().fit(X_train_stand_up[[i]])\n",
    "    \n",
    "    # transform the training data column\n",
    "    X_train_stand_up[i] = scale.transform(X_train_stand_up[[i]])\n",
    "    \n",
    "    # transform the testing data column\n",
    "    X_test_stand_up[i] = scale.transform(X_test_stand_up[[i]])"
   ]
  },
  {
   "cell_type": "markdown",
   "metadata": {},
   "source": [
    "### KNN for cleaned and upsampled data "
   ]
  },
  {
   "cell_type": "code",
   "execution_count": 110,
   "metadata": {},
   "outputs": [
    {
     "data": {
      "text/plain": [
       "KNeighborsClassifier(n_jobs=-1, n_neighbors=9)"
      ]
     },
     "execution_count": 110,
     "metadata": {},
     "output_type": "execute_result"
    }
   ],
   "source": [
    "#After upsampling we try KNN for 9 neighbors. \n",
    "\n",
    "from sklearn import neighbors\n",
    "KNN_model_up=neighbors.KNeighborsClassifier(n_neighbors=9 ,n_jobs=-1)\n",
    "\n",
    "KNN_model_up.fit(X_train_stand_up,train_y_up)"
   ]
  },
  {
   "cell_type": "code",
   "execution_count": 111,
   "metadata": {},
   "outputs": [
    {
     "data": {
      "text/plain": [
       "0.7126778119958939"
      ]
     },
     "execution_count": 111,
     "metadata": {},
     "output_type": "execute_result"
    }
   ],
   "source": [
    "#Unfortunetly we get so low accuracy score. \n",
    "\n",
    "pred_up=KNN_model_up.predict(X_test_stand_up)\n",
    "\n",
    "acc_test_up = accuracy_score(test_y1,pred_up)\n",
    "acc_test_up"
   ]
  },
  {
   "cell_type": "code",
   "execution_count": 113,
   "metadata": {},
   "outputs": [],
   "source": [
    "#Here also we try to find optimal K. \n",
    "\n",
    "from sklearn import neighbors \n",
    "from sklearn.metrics import f1_score,confusion_matrix,roc_auc_score\n",
    "f1_list=[]\n",
    "k_list=[]\n",
    "for k in range(1,30):\n",
    "    clf=neighbors.KNeighborsClassifier(n_neighbors=k,n_jobs=-1)\n",
    "    clf.fit(X_train_stand_up,train_y_up)\n",
    "    pred=clf.predict(X_test_stand_up)\n",
    "    f=f1_score(test_y1,pred,average='macro')\n",
    "    f1_list.append(f)\n",
    "    k_list.append(k)"
   ]
  },
  {
   "cell_type": "code",
   "execution_count": 114,
   "metadata": {},
   "outputs": [
    {
     "data": {
      "text/plain": [
       "[<matplotlib.lines.Line2D at 0x19f90acb190>]"
      ]
     },
     "execution_count": 114,
     "metadata": {},
     "output_type": "execute_result"
    },
    {
     "data": {
      "image/png": "[encoded data removed]",
      "text/plain": [
       "<Figure size 432x288 with 1 Axes>"
      ]
     },
     "metadata": {
      "needs_background": "light"
     },
     "output_type": "display_data"
    }
   ],
   "source": [
    "plt.plot(k_list,f1_list)"
   ]
  },
  {
   "cell_type": "code",
   "execution_count": 116,
   "metadata": {},
   "outputs": [],
   "source": [
    "from sklearn import neighbors \n",
    "from sklearn.metrics import f1_score,confusion_matrix,roc_auc_score\n",
    "f1_list=[]\n",
    "k_list=[]\n",
    "for k in range(18,23):\n",
    "    clf=neighbors.KNeighborsClassifier(n_neighbors=k,n_jobs=-1)\n",
    "    clf.fit(X_train_stand_up,train_y_up)\n",
    "    pred=clf.predict(X_test_stand_up)\n",
    "    f=f1_score(test_y1,pred,average='macro')\n",
    "    f1_list.append(f)\n",
    "    k_list.append(k)"
   ]
  },
  {
   "cell_type": "code",
   "execution_count": 117,
   "metadata": {},
   "outputs": [
    {
     "data": {
      "text/plain": [
       "[<matplotlib.lines.Line2D at 0x19f884b5d00>]"
      ]
     },
     "execution_count": 117,
     "metadata": {},
     "output_type": "execute_result"
    },
    {
     "data": {
      "image/png": "[encoded data removed]",
      "text/plain": [
       "<Figure size 432x288 with 1 Axes>"
      ]
     },
     "metadata": {
      "needs_background": "light"
     },
     "output_type": "display_data"
    }
   ],
   "source": [
    "plt.plot(k_list,f1_list)"
   ]
  },
  {
   "cell_type": "code",
   "execution_count": 118,
   "metadata": {},
   "outputs": [
    {
     "data": {
      "text/plain": [
       "KNeighborsClassifier(n_jobs=-1, n_neighbors=20)"
      ]
     },
     "execution_count": 118,
     "metadata": {},
     "output_type": "execute_result"
    }
   ],
   "source": [
    "KNN_model_up=neighbors.KNeighborsClassifier(n_neighbors=20 ,n_jobs=-1)\n",
    "\n",
    "KNN_model_up.fit(X_train_stand_up,train_y_up)"
   ]
  },
  {
   "cell_type": "code",
   "execution_count": 119,
   "metadata": {},
   "outputs": [
    {
     "data": {
      "text/plain": [
       "0.725903724886347"
      ]
     },
     "execution_count": 119,
     "metadata": {},
     "output_type": "execute_result"
    }
   ],
   "source": [
    "#Even though we find the best K for KNN our accuracy is still low. So we need to try another method for this dataset. \n",
    "\n",
    "pred_up=KNN_model_up.predict(X_test_stand_up)\n",
    "\n",
    "acc_test_up = accuracy_score(test_y1,pred_up)\n",
    "acc_test_up"
   ]
  },
  {
   "cell_type": "code",
   "execution_count": 122,
   "metadata": {},
   "outputs": [
    {
     "name": "stdout",
     "output_type": "stream",
     "text": [
      "              precision    recall  f1-score   support\n",
      "\n",
      "           0       0.92      0.72      0.81     87790\n",
      "           1       0.39      0.75      0.52     21314\n",
      "\n",
      "    accuracy                           0.73    109104\n",
      "   macro avg       0.66      0.74      0.66    109104\n",
      "weighted avg       0.82      0.73      0.75    109104\n",
      "\n"
     ]
    }
   ],
   "source": [
    "from sklearn.metrics import classification_report\n",
    "\n",
    "print(classification_report(test_y1, pred_up))"
   ]
  },
  {
   "cell_type": "markdown",
   "metadata": {},
   "source": [
    "### Decision tree for clean and upsampled data "
   ]
  },
  {
   "cell_type": "code",
   "execution_count": 128,
   "metadata": {},
   "outputs": [],
   "source": [
    "# At this time we try Decisition Tree classifier on the clean and upsampled data without any hyperparametr. \n",
    "\n",
    "model = DecisionTreeClassifier()\n",
    "model.fit(X_train_stand_up,train_y_up)\n",
    "pred_dc = model.predict(X_test_stand_up)\n",
    "acc_dc = accuracy_score(test_y1,pred_dc)"
   ]
  },
  {
   "cell_type": "code",
   "execution_count": 129,
   "metadata": {},
   "outputs": [
    {
     "data": {
      "text/plain": [
       "0.7601646135797038"
      ]
     },
     "execution_count": 129,
     "metadata": {},
     "output_type": "execute_result"
    }
   ],
   "source": [
    "#As we can see we get higher result than on the rsw data. \n",
    "\n",
    "acc_dc"
   ]
  },
  {
   "cell_type": "code",
   "execution_count": 186,
   "metadata": {},
   "outputs": [
    {
     "name": "stdout",
     "output_type": "stream",
     "text": [
      "              precision    recall  f1-score   support\n",
      "\n",
      "           0       0.85      0.85      0.85     87790\n",
      "           1       0.39      0.40      0.39     21314\n",
      "\n",
      "    accuracy                           0.76    109104\n",
      "   macro avg       0.62      0.62      0.62    109104\n",
      "weighted avg       0.76      0.76      0.76    109104\n",
      "\n"
     ]
    }
   ],
   "source": [
    "print(classification_report(test_y1, pred_dc))"
   ]
  },
  {
   "cell_type": "code",
   "execution_count": 169,
   "metadata": {},
   "outputs": [
    {
     "name": "stdout",
     "output_type": "stream",
     "text": [
      "Best Criterion: entropy\n",
      "Best max_depth: 41\n",
      "min_samples_leaf: 2\n"
     ]
    }
   ],
   "source": [
    "#So lets fin the optimal tree. \n",
    "\n",
    "from sklearn.model_selection import GridSearchCV\n",
    "\n",
    "tree_params2 = {\"criterion\": [\"gini\", \"entropy\"], \"max_depth\": list(range(28,45,1)), \n",
    "              \"min_samples_leaf\": list(range(2,12,1))}\n",
    "grid_tree2 = GridSearchCV(DecisionTreeClassifier(), tree_params2)\n",
    "grid_tree2.fit(X_train_stand_up, train_y_up)\n",
    "\n",
    "print('Best Criterion:', grid_tree2.best_estimator_.get_params()['criterion'])\n",
    "print('Best max_depth:', grid_tree2.best_estimator_.get_params()['max_depth'])\n",
    "print('min_samples_leaf:', grid_tree2.best_estimator_.get_params()['min_samples_leaf'])\n"
   ]
  },
  {
   "cell_type": "code",
   "execution_count": 252,
   "metadata": {},
   "outputs": [
    {
     "data": {
      "text/plain": [
       "0.7549952339052647"
      ]
     },
     "execution_count": 252,
     "metadata": {},
     "output_type": "execute_result"
    }
   ],
   "source": [
    "model2 = DecisionTreeClassifier(criterion=\"entropy\",max_depth=75,min_samples_leaf=2)\n",
    "model2.fit(X_train_stand_up,train_y_up)\n",
    "pred_dc2 = model2.predict(X_test_stand_up)\n",
    "acc_dc_op2 = accuracy_score(test_y1,pred_dc2)\n",
    "acc_dc_op2"
   ]
  },
  {
   "cell_type": "code",
   "execution_count": 251,
   "metadata": {},
   "outputs": [
    {
     "name": "stdout",
     "output_type": "stream",
     "text": [
      "              precision    recall  f1-score   support\n",
      "\n",
      "           0       0.86      0.83      0.84     87790\n",
      "           1       0.39      0.44      0.41     21314\n",
      "\n",
      "    accuracy                           0.75    109104\n",
      "   macro avg       0.62      0.63      0.63    109104\n",
      "weighted avg       0.77      0.75      0.76    109104\n",
      "\n"
     ]
    }
   ],
   "source": [
    "print(classification_report(test_y1, pred_dc2))"
   ]
  },
  {
   "cell_type": "markdown",
   "metadata": {},
   "source": [
    "### Conclusion"
   ]
  },
  {
   "cell_type": "markdown",
   "metadata": {},
   "source": [
    "So we have 4 models: first two models KNN and Decision tree on raw data."
   ]
  },
  {
   "cell_type": "markdown",
   "metadata": {},
   "source": [
    "On raw data.\n",
    "\n",
    "KNN_model=neighbors.KNeighborsClassifier(n_neighbors=15,n_jobs=-1)\n",
    "\n",
    "model1 = DecisionTreeClassifier(criterion='entropy',max_depth=8,min_samples_leaf=8)\n",
    "\n",
    "Here we get higher accuracy by decision tree:model1."
   ]
  },
  {
   "cell_type": "markdown",
   "metadata": {},
   "source": [
    "On clean and upsampled data. \n",
    "\n",
    "KNN_model_up=neighbors.KNeighborsClassifier(n_neighbors=20 ,n_jobs=-1)\n",
    "\n",
    "model = DecisionTreeClassifier()\n",
    "\n",
    "Here we get higher accuracy also on Decision Tree. But it is lower than on the raw data's model. "
   ]
  }
 ],
 "metadata": {
  "kernelspec": {
   "display_name": "Python 3",
   "language": "python",
   "name": "python3"
  },
  "language_info": {
   "codemirror_mode": {
    "name": "ipython",
    "version": 3
   },
   "file_extension": ".py",
   "mimetype": "text/x-python",
   "name": "python",
   "nbconvert_exporter": "python",
   "pygments_lexer": "ipython3",
   "version": "3.8.3"
  }
 },
 "nbformat": 4,
 "nbformat_minor": 4
}
